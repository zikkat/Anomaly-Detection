{
 "cells": [
  {
   "cell_type": "code",
   "execution_count": null,
   "metadata": {
    "slideshow": {
     "slide_type": "notes"
    }
   },
   "outputs": [],
   "source": [
    "from IPython.core.interactiveshell import InteractiveShell\n",
    "InteractiveShell.ast_node_interactivity = \"all\"\n",
    "import pandas as pd\n",
    "import numpy as np\n",
    "from sklearn import svm\n",
    "from sklearn.neighbors import NearestNeighbors, LocalOutlierFactor\n",
    "from sklearn.cluster import KMeans\n",
    "from sklearn.model_selection import GridSearchCV, ParameterGrid\n",
    "from sklearn.metrics import mean_absolute_error, make_scorer\n",
    "from sklearn.mixture import GaussianMixture as GMM\n",
    "from sklearn.base import BaseEstimator,TransformerMixin, ClusterMixin ,RegressorMixin\n",
    "from sklearn.pipeline import make_pipeline, Pipeline\n",
    "from sklearn.preprocessing import StandardScaler\n",
    "from sklearn.linear_model import LinearRegression\n",
    "from sklearn.externals import joblib\n",
    "from tkinter import Tk\n",
    "from tkinter import filedialog as fd\n",
    "import matplotlib.pyplot as plt\n",
    "import seaborn as sns\n",
    "import statsmodels.api as sm\n",
    "%matplotlib inline\n",
    "#%matplotlib notebook\n",
    "pd.set_option('display.max_columns', 100)\n",
    "pd.set_option('display.precision', 2) \n",
    "from pivottablejs import pivot_ui\n",
    "import plotly.offline as py\n",
    "py.init_notebook_mode()\n",
    "import plotly.graph_objs as go\n",
    "from plotly import tools\n",
    "from ipywidgets import *\n",
    "from ipywidgets import widget\n"
   ]
  },
  {
   "cell_type": "markdown",
   "metadata": {
    "slideshow": {
     "slide_type": "notes"
    }
   },
   "source": [
    "# importing data"
   ]
  },
  {
   "cell_type": "code",
   "execution_count": null,
   "metadata": {
    "collapsed": true,
    "slideshow": {
     "slide_type": "notes"
    }
   },
   "outputs": [],
   "source": [
    "def read_file(fileType,encode=\"ISO-8859-2\"):\n",
    "    low_memory=False\n",
    "    Tk().withdraw()\n",
    "    fileName = fd.askopenfilename()\n",
    "    if fileType.lower()==\"csv\":\n",
    "        data_table=pd.read_csv(fileName,header=0,encoding=encode)\n",
    "         \n",
    "    else:\n",
    "        data_table=pd.read_excel(fileName,header=0)\n",
    "    \n",
    "    return data_table"
   ]
  },
  {
   "cell_type": "markdown",
   "metadata": {
    "slideshow": {
     "slide_type": "notes"
    }
   },
   "source": [
    "# Reviewing data table"
   ]
  },
  {
   "cell_type": "code",
   "execution_count": null,
   "metadata": {
    "scrolled": false,
    "slideshow": {
     "slide_type": "notes"
    }
   },
   "outputs": [],
   "source": [
    "# Trying to see the mixed Type and whether there are any nans\n",
    "filetype=input(\"Enter excel or CSV: \")\n",
    "newTable=read_file(str(filetype).lower())"
   ]
  },
  {
   "cell_type": "code",
   "execution_count": null,
   "metadata": {
    "collapsed": true,
    "slideshow": {
     "slide_type": "notes"
    }
   },
   "outputs": [],
   "source": [
    "ctmw=\"Output\"\n",
    "cit=\"Cit\""
   ]
  },
  {
   "cell_type": "code",
   "execution_count": null,
   "metadata": {
    "collapsed": true,
    "slideshow": {
     "slide_type": "notes"
    }
   },
   "outputs": [],
   "source": [
    "newTable_proc=newTable[(newTable[ctmw]>50)].reset_index(drop=True)\n",
    "base_df=newTable_proc"
   ]
  },
  {
   "cell_type": "markdown",
   "metadata": {
    "slideshow": {
     "slide_type": "slide"
    }
   },
   "source": [
    "<h3 align=\"center\"> Python Meetup Demo </h3>"
   ]
  },
  {
   "cell_type": "markdown",
   "metadata": {
    "slideshow": {
     "slide_type": "slide"
    }
   },
   "source": [
    "<img src=\"images/foundation-3_small.jpg\">\n",
    "** We're a Houston startup with the goal to advance cutting edge data science through high quality and practical educational training**\n"
   ]
  },
  {
   "cell_type": "markdown",
   "metadata": {
    "slideshow": {
     "slide_type": "slide"
    }
   },
   "source": [
    "# IoT anomaly detection using Scikit Learn Pipelines"
   ]
  },
  {
   "cell_type": "markdown",
   "metadata": {
    "slideshow": {
     "slide_type": "slide"
    }
   },
   "source": [
    "<img align=\"center\" src=\"images/Good news Everyone .jpg\" alt=\"Drawing\" style=\"width: 400px;\"/>\n",
    "<h3 align=\"center\">Rise package can make your Jupyter slides dynamic</h3>"
   ]
  },
  {
   "cell_type": "markdown",
   "metadata": {
    "slideshow": {
     "slide_type": "slide"
    }
   },
   "source": [
    "# Goals:\n",
    "- Introduce Anomaly detection for IoT data and displaying few methods\n",
    "- Introduce Machine Learning pipelines for production work\n",
    "- Create a custom transformation/estimation and call it from scikit learn pipeline "
   ]
  },
  {
   "cell_type": "code",
   "execution_count": null,
   "metadata": {
    "scrolled": false,
    "slideshow": {
     "slide_type": "slide"
    }
   },
   "outputs": [],
   "source": [
    "pivot_ui(base_df)"
   ]
  },
  {
   "cell_type": "markdown",
   "metadata": {
    "slideshow": {
     "slide_type": "slide"
    }
   },
   "source": [
    "** Assessing several Outlier Detection methods from scikit learn**\n",
    "```python\n",
    "# Support Vector Machines\n",
    "clfsvm = svm.OneClassSVM(kernel=\"rbf\",nu=0.2) \n",
    "# Kmeans with 2 clusters\n",
    "clfKM = KMeans(n_clusters=2)\n",
    "# KNN one class classification\n",
    "y_predilof = LocalOutlierFactor(contamination=0.4).fit_predict(xstd)\n",
    "# Gaussian Mixture Models\n",
    "y_gmm=(GMM(2, max_iter=1000, random_state=0).fit(xstd)).predict(xstd) \n",
    "y_predsvm = (clfsvm.fit(xstd)).predict(xstd)\n",
    "y_kmeans = clfKM.fit(xstd).predict(xstd)\n",
    "```"
   ]
  },
  {
   "cell_type": "code",
   "execution_count": null,
   "metadata": {
    "collapsed": true,
    "slideshow": {
     "slide_type": "notes"
    }
   },
   "outputs": [],
   "source": [
    "X=base_df[[cit,ctmw]]\n",
    "xstd=StandardScaler().fit_transform(X)"
   ]
  },
  {
   "cell_type": "code",
   "execution_count": null,
   "metadata": {
    "collapsed": true,
    "slideshow": {
     "slide_type": "notes"
    }
   },
   "outputs": [],
   "source": [
    "clfsvm = svm.OneClassSVM(kernel=\"rbf\",nu=0.2)\n",
    "y_predsvm = (clfsvm.fit(xstd)).predict(xstd)"
   ]
  },
  {
   "cell_type": "code",
   "execution_count": null,
   "metadata": {
    "collapsed": true,
    "slideshow": {
     "slide_type": "notes"
    }
   },
   "outputs": [],
   "source": [
    "clfKM = KMeans(n_clusters=2)\n",
    "y_kmeans = clfKM.fit(xstd).predict(xstd)"
   ]
  },
  {
   "cell_type": "code",
   "execution_count": null,
   "metadata": {
    "collapsed": true,
    "slideshow": {
     "slide_type": "notes"
    }
   },
   "outputs": [],
   "source": [
    "y_predilof = LocalOutlierFactor(contamination=0.4).fit_predict(xstd)"
   ]
  },
  {
   "cell_type": "code",
   "execution_count": null,
   "metadata": {
    "collapsed": true,
    "slideshow": {
     "slide_type": "notes"
    }
   },
   "outputs": [],
   "source": [
    "y_gmm=(GMM(2, max_iter=1000, random_state=0).fit(xstd)).predict(xstd)"
   ]
  },
  {
   "cell_type": "code",
   "execution_count": null,
   "metadata": {
    "collapsed": true,
    "slideshow": {
     "slide_type": "notes"
    }
   },
   "outputs": [],
   "source": [
    "outlier_df=pd.DataFrame({\"outliergmm\":y_gmm,\"outlierKmeans\":y_kmeans,\"outliersvm\":y_predsvm,\"outlierlof\":y_predilof})\n",
    "baseo_df=base_df.join(outlier_df)"
   ]
  },
  {
   "cell_type": "code",
   "execution_count": null,
   "metadata": {
    "collapsed": true,
    "scrolled": true,
    "slideshow": {
     "slide_type": "notes"
    }
   },
   "outputs": [],
   "source": [
    "def plotall():\n",
    "    for out_type in outlier_df.columns:\n",
    "        (sns.FacetGrid(baseo_df,hue=out_type, size=7).map(plt.scatter, cit, ctmw).add_legend().set(title='Temp vs Power',\n",
    "                                                                                               xlabel='Temp',\n",
    "                                                                                               ylabel='Power'))\n",
    "        plt.show();"
   ]
  },
  {
   "cell_type": "code",
   "execution_count": null,
   "metadata": {
    "scrolled": true,
    "slideshow": {
     "slide_type": "slide"
    }
   },
   "outputs": [],
   "source": [
    "plotall()"
   ]
  },
  {
   "cell_type": "markdown",
   "metadata": {
    "slideshow": {
     "slide_type": "notes"
    }
   },
   "source": [
    "# Add picture showing error along lines and by using regression line plot\n",
    "### Then demonstrate process how to do this with OLS manually"
   ]
  },
  {
   "cell_type": "code",
   "execution_count": null,
   "metadata": {
    "scrolled": false,
    "slideshow": {
     "slide_type": "slide"
    }
   },
   "outputs": [],
   "source": [
    "sns.lmplot(x=cit, y=ctmw, data=X, size=12,scatter_kws={\"s\": 10},line_kws={\"color\":\"red\",\"linewidth\":4},ci=None);"
   ]
  },
  {
   "cell_type": "code",
   "execution_count": null,
   "metadata": {
    "slideshow": {
     "slide_type": "slide"
    }
   },
   "outputs": [],
   "source": [
    "plt.figure(figsize=(10,10))\n",
    "sns.residplot(x=cit, y=ctmw, data=X,scatter_kws={\"s\": 10});"
   ]
  },
  {
   "cell_type": "markdown",
   "metadata": {
    "slideshow": {
     "slide_type": "slide"
    }
   },
   "source": [
    "```python\n",
    "xarr=X[cit].values.reshape(-1,1)\n",
    "yarr=X[ctmw].values.reshape(-1,1)\n",
    "linreg=Pipeline([(\n",
    "'std_scaler', StandardScaler()),\n",
    "('LinReg',LinearRegression(fit_intercept=True))]).fit(X=xarr,y=yarr)            \n",
    "```"
   ]
  },
  {
   "cell_type": "code",
   "execution_count": null,
   "metadata": {
    "collapsed": true,
    "slideshow": {
     "slide_type": "notes"
    }
   },
   "outputs": [],
   "source": [
    "linreg=Pipeline([(\n",
    "    'std_scaler', StandardScaler()),\n",
    "    ('LinReg',\n",
    "     LinearRegression(fit_intercept=True))]).fit(X=X[cit].values.reshape(-1,1),\n",
    "                                                 y=X[ctmw].values.reshape(-1,1))                "
   ]
  },
  {
   "cell_type": "markdown",
   "metadata": {
    "slideshow": {
     "slide_type": "slide"
    }
   },
   "source": [
    "```python\n",
    "resid=(X[ctmw].values.reshape(-1,1))-linreg.predict(X[cit].values.reshape(-1,1))\n",
    "clf = GMM(2, max_iter=500, random_state=23).fit(resid)\n",
    "y_newgmm=clf.predict(resid)\n",
    "outlier_new=pd.DataFrame({\"outlierresg\":y_newgmm})\n",
    "datanew_df=X.join(outlier_new)\n",
    "```"
   ]
  },
  {
   "cell_type": "code",
   "execution_count": null,
   "metadata": {
    "collapsed": true,
    "slideshow": {
     "slide_type": "notes"
    }
   },
   "outputs": [],
   "source": [
    "resid=(X[ctmw].values.reshape(-1,1))-linreg.predict(X[cit].values.reshape(-1,1))\n",
    "clf = GMM(2, max_iter=500, random_state=23).fit(resid)\n",
    "y_newgmm=clf.predict(resid)\n",
    "outlier_new=pd.DataFrame({\"outlierresg\":y_newgmm})\n",
    "datanew_df=X.join(outlier_new);"
   ]
  },
  {
   "cell_type": "code",
   "execution_count": null,
   "metadata": {
    "slideshow": {
     "slide_type": "slide"
    }
   },
   "outputs": [],
   "source": [
    "sns.lmplot(x=cit, y=ctmw, data=datanew_df, size=8,hue=\"outlierresg\",fit_reg=False,scatter_kws={\"s\": 25});"
   ]
  },
  {
   "cell_type": "code",
   "execution_count": null,
   "metadata": {
    "slideshow": {
     "slide_type": "slide"
    }
   },
   "outputs": [],
   "source": [
    "plt.hist(resid, 50, normed=True)\n",
    "plt.xlim(-10, 10)\n",
    "plt.show();"
   ]
  },
  {
   "cell_type": "markdown",
   "metadata": {
    "slideshow": {
     "slide_type": "-"
    }
   },
   "source": [
    "**Gaussian Mixture Models allow you to fit partial and full Normal Distribution (i.e. Gaussian)**"
   ]
  },
  {
   "cell_type": "markdown",
   "metadata": {
    "slideshow": {
     "slide_type": "slide"
    }
   },
   "source": [
    "## For Making custom Transformers and adding them to pipelines\n",
    "- The transformer should work seamlessly with Scikit-Learn pipelines\n",
    "\n",
    "- Scikit-Learn uses duck typing (not inheritance), so all you need to do is follow the API\n",
    "\n",
    "- No need to inherit from scikit-learn classes\n",
    "\n",
    "- Create a class and implement three methods: fit() (returning self), transform(), and fit_transform(). \n",
    "\n",
    "- fit_transform() can be achieved by calling TransformerMixin as a base class\n",
    "\n",
    "- Adding BaseEstimator as a base class will allow two extra methods (get_params() and set_params()). Those can be used for hyperparameter tuning"
   ]
  },
  {
   "cell_type": "markdown",
   "metadata": {
    "slideshow": {
     "slide_type": "-"
    }
   },
   "source": [
    "http://scikit-learn.org/stable/developers/contributing.html#rolling-your-own-estimator"
   ]
  },
  {
   "cell_type": "markdown",
   "metadata": {
    "slideshow": {
     "slide_type": "slide"
    }
   },
   "source": [
    "``` python\n",
    "class BinOnResiduals(BaseEstimator, TransformerMixin):\n",
    "    def __init__(self,param=True): # no *args or **kargs\n",
    "        self.param = param\n",
    "    def fit(self, X, y=None):\n",
    "        return self # nothing else to do\n",
    "    def transform(self, X, y=None):\n",
    "        exog=X[:,0].reshape(-1,1) # creating input for Linear Reg\n",
    "        endog=X[:,1].reshape(-1,1) # creating the output\n",
    "        resid=endog - linreg.predict(exog) # setting the residuals\n",
    "        return np.c_[resid]\n",
    "```"
   ]
  },
  {
   "cell_type": "code",
   "execution_count": null,
   "metadata": {
    "collapsed": true,
    "slideshow": {
     "slide_type": "notes"
    }
   },
   "outputs": [],
   "source": [
    "class BinOnResiduals(BaseEstimator, TransformerMixin):\n",
    "    def __init__(self,param=True): # no *args or **kargs\n",
    "        self.param = param\n",
    "    def fit(self, X, y=None):\n",
    "        return self # nothing else to do\n",
    "    def transform(self, X, y=None):\n",
    "        exog=X[:,0].reshape(-1,1)\n",
    "        endog=X[:,1].reshape(-1,1)\n",
    "        resid=endog - linreg.predict(exog)\n",
    "        return np.c_[resid]"
   ]
  },
  {
   "cell_type": "markdown",
   "metadata": {
    "slideshow": {
     "slide_type": "slide"
    }
   },
   "source": [
    "``` python\n",
    "transf_pipeline=Pipeline([('resid_attrib_adder', BinOnResiduals()),\n",
    "                          (\"GMM_Estimator\",GMM(2, max_iter=500, random_state=23))])\n",
    "\n",
    "\n",
    "```"
   ]
  },
  {
   "cell_type": "code",
   "execution_count": null,
   "metadata": {
    "collapsed": true,
    "slideshow": {
     "slide_type": "notes"
    }
   },
   "outputs": [],
   "source": [
    "transf_pipeline=Pipeline([('resid_attrib_adder', BinOnResiduals()),\n",
    "                          (\"GMM_Estimator\",GMM(2, max_iter=500, random_state=23))])"
   ]
  },
  {
   "cell_type": "markdown",
   "metadata": {
    "slideshow": {
     "slide_type": "slide"
    }
   },
   "source": [
    "``` python\n",
    "def trans_run(gmm_n_estimators=2):\n",
    "    transf_pln=Pipeline([('resid_attrib_adder', BinOnResiduals()),\n",
    "                         (\"GMM_Estimator\",GMM(n_components=gmm_n_estimators, \n",
    "                                          max_iter=500, random_state=23))])    \n",
    "    y_newg=transf_pln.fit(X.values).predict(X.values)\n",
    "    datanew_df=X.join(pd.DataFrame({\"outlierresg\":y_newg}))    \n",
    "    sns.lmplot(x=datanew_df.columns[0], \n",
    "               y=datanew_df.columns[1], data=datanew_df,\n",
    "               size=10,hue=\"outlierresg\",fit_reg=False,scatter_kws={\"s\": 25})\n",
    "    plt.show()    \n",
    "```"
   ]
  },
  {
   "cell_type": "code",
   "execution_count": null,
   "metadata": {
    "collapsed": true,
    "scrolled": false,
    "slideshow": {
     "slide_type": "notes"
    }
   },
   "outputs": [],
   "source": [
    "def trans_run(gmm_n_estimators=2):\n",
    "    transf_pln=Pipeline([('resid_attrib_adder', BinOnResiduals()),\n",
    "                         (\"GMM_Estimator\",\n",
    "                          GMM(n_components=gmm_n_estimators, \n",
    "                              max_iter=500, random_state=23))])\n",
    "    \n",
    "    y_newg=transf_pln.fit(X.values).predict(X.values)\n",
    "    datanew_df=X.join(pd.DataFrame({\"outlierresg\":y_newg}))\n",
    "    \n",
    "    sns.lmplot(x=datanew_df.columns[0], \n",
    "               y=datanew_df.columns[1], data=datanew_df,\n",
    "               size=10,hue=\"outlierresg\",fit_reg=False,scatter_kws={\"s\": 25})\n",
    "    plt.show()\n",
    "    "
   ]
  },
  {
   "cell_type": "code",
   "execution_count": null,
   "metadata": {
    "slideshow": {
     "slide_type": "slide"
    }
   },
   "outputs": [],
   "source": [
    "trans_run();"
   ]
  },
  {
   "cell_type": "code",
   "execution_count": null,
   "metadata": {
    "collapsed": true,
    "slideshow": {
     "slide_type": "slide"
    }
   },
   "outputs": [],
   "source": [
    "clf=transf_pipeline.fit(X.values)"
   ]
  },
  {
   "cell_type": "code",
   "execution_count": null,
   "metadata": {
    "slideshow": {
     "slide_type": "-"
    }
   },
   "outputs": [],
   "source": [
    "clf.predict(np.array([[60], [80.5]]).reshape((1,2)))"
   ]
  },
  {
   "cell_type": "code",
   "execution_count": null,
   "metadata": {
    "collapsed": true,
    "slideshow": {
     "slide_type": "-"
    }
   },
   "outputs": [],
   "source": [
    "joblib.dump(clf,'demo.pkl');"
   ]
  },
  {
   "cell_type": "code",
   "execution_count": null,
   "metadata": {
    "collapsed": true,
    "slideshow": {
     "slide_type": "-"
    }
   },
   "outputs": [],
   "source": [
    "clf2=joblib.load('demo.pkl')"
   ]
  },
  {
   "cell_type": "code",
   "execution_count": null,
   "metadata": {
    "scrolled": true,
    "slideshow": {
     "slide_type": "-"
    }
   },
   "outputs": [],
   "source": [
    "clf2.predict(np.array([[60], [80.5]]).reshape((1,2)))"
   ]
  },
  {
   "cell_type": "code",
   "execution_count": null,
   "metadata": {
    "slideshow": {
     "slide_type": "slide"
    }
   },
   "outputs": [],
   "source": [
    "widgets.interact(trans_run,gmm_n_estimators=(2,12,1));"
   ]
  },
  {
   "cell_type": "code",
   "execution_count": null,
   "metadata": {
    "scrolled": false,
    "slideshow": {
     "slide_type": "slide"
    }
   },
   "outputs": [],
   "source": [
    "x=transf_pipeline.named_steps['resid_attrib_adder'].fit_transform(X.values)\n",
    "n_estimators = np.arange(1, 12)\n",
    "clfs = [GMM(n, max_iter=1000,random_state=23).fit(x) for n in n_estimators]\n",
    "bics = [clf.bic(x) for clf in clfs]\n",
    "\n",
    "plt.plot(n_estimators, bics, label='BIC')\n",
    "plt.legend();"
   ]
  },
  {
   "cell_type": "markdown",
   "metadata": {
    "collapsed": true,
    "slideshow": {
     "slide_type": "-"
    }
   },
   "source": [
    "**BIC plot and code above is courtesy of Jake VanderPlas, Python Data Science Handbook**"
   ]
  },
  {
   "cell_type": "code",
   "execution_count": null,
   "metadata": {
    "collapsed": true,
    "slideshow": {
     "slide_type": "notes"
    }
   },
   "outputs": [],
   "source": []
  }
 ],
 "metadata": {
  "celltoolbar": "Slideshow",
  "kernelspec": {
   "display_name": "Python 3",
   "language": "python",
   "name": "python3"
  },
  "language_info": {
   "codemirror_mode": {
    "name": "ipython",
    "version": 3
   },
   "file_extension": ".py",
   "mimetype": "text/x-python",
   "name": "python",
   "nbconvert_exporter": "python",
   "pygments_lexer": "ipython3",
   "version": "3.6.1"
  }
 },
 "nbformat": 4,
 "nbformat_minor": 2
}
